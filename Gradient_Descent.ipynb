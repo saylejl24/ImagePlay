{
 "cells": [
  {
   "cell_type": "markdown",
   "metadata": {},
   "source": [
    "Implementing Gradient Descent From Scratch "
   ]
  },
  {
   "cell_type": "code",
   "execution_count": 17,
   "metadata": {},
   "outputs": [],
   "source": [
    "def gradient_descent(objective, derivative, bounds, n_iter, step_size):\n",
    "\t# generate an initial point\n",
    "\tsolution = bounds[:, 0] + np.random.rand(len(bounds)) * (bounds[:, 1] - bounds[:, 0])\n",
    "\t# run the gradient descent\n",
    "\tfor i in range(n_iter):\n",
    "\t\t# calculate gradient\n",
    "\t\tgradient = derivative(solution)\n",
    "\t\t# take a step\n",
    "\t\tsolution = solution - step_size * gradient\n",
    "\t\t# evaluate candidate point\n",
    "\t\tsolution_eval = objective(solution)\n",
    "\t\t# report progress\n",
    "\t\tprint('>%d f(%s) = %.5f' % (i, solution, solution_eval))\n",
    "\treturn [solution, solution_eval]"
   ]
  },
  {
   "cell_type": "code",
   "execution_count": 2,
   "metadata": {},
   "outputs": [],
   "source": [
    "# objective function\n",
    "def objective(x):\n",
    "\treturn x**2.0"
   ]
  },
  {
   "cell_type": "code",
   "execution_count": 4,
   "metadata": {},
   "outputs": [],
   "source": [
    "import numpy as np"
   ]
  },
  {
   "cell_type": "code",
   "execution_count": 6,
   "metadata": {},
   "outputs": [],
   "source": [
    "# define range for input\n",
    "r_min, r_max = -1.0, 1.0\n",
    "# sample input range uniformly at 0.1 increments\n",
    "inputs = np.arange(r_min, r_max+0.1, 0.1)\n",
    "# compute targets\n",
    "results = objective(inputs)"
   ]
  },
  {
   "cell_type": "code",
   "execution_count": 8,
   "metadata": {},
   "outputs": [],
   "source": [
    "import matplotlib.pyplot as pyplot"
   ]
  },
  {
   "cell_type": "code",
   "execution_count": 9,
   "metadata": {},
   "outputs": [
    {
     "data": {
      "image/png": "[encoded data removed]",
      "text/plain": [
       "<Figure size 432x288 with 1 Axes>"
      ]
     },
     "metadata": {
      "needs_background": "light"
     },
     "output_type": "display_data"
    }
   ],
   "source": [
    "# create a line plot of input vs result\n",
    "pyplot.plot(inputs, results)\n",
    "# show the plot\n",
    "pyplot.show()"
   ]
  },
  {
   "cell_type": "code",
   "execution_count": 10,
   "metadata": {},
   "outputs": [],
   "source": [
    "# derivative of objective function\n",
    "def derivative(x):\n",
    "\treturn x * 2.0"
   ]
  },
  {
   "cell_type": "code",
   "execution_count": 21,
   "metadata": {},
   "outputs": [
    {
     "name": "stdout",
     "output_type": "stream",
     "text": [
      ">0 f([-0.2006771]) = 0.04027\n",
      ">1 f([-0.16054168]) = 0.02577\n",
      ">2 f([-0.12843334]) = 0.01650\n",
      ">3 f([-0.10274668]) = 0.01056\n",
      ">4 f([-0.08219734]) = 0.00676\n",
      ">5 f([-0.06575787]) = 0.00432\n",
      ">6 f([-0.0526063]) = 0.00277\n",
      ">7 f([-0.04208504]) = 0.00177\n",
      ">8 f([-0.03366803]) = 0.00113\n",
      ">9 f([-0.02693442]) = 0.00073\n",
      ">10 f([-0.02154754]) = 0.00046\n",
      ">11 f([-0.01723803]) = 0.00030\n",
      ">12 f([-0.01379043]) = 0.00019\n",
      ">13 f([-0.01103234]) = 0.00012\n",
      ">14 f([-0.00882587]) = 0.00008\n",
      ">15 f([-0.0070607]) = 0.00005\n",
      ">16 f([-0.00564856]) = 0.00003\n",
      ">17 f([-0.00451885]) = 0.00002\n",
      ">18 f([-0.00361508]) = 0.00001\n",
      ">19 f([-0.00289206]) = 0.00001\n",
      ">20 f([-0.00231365]) = 0.00001\n",
      ">21 f([-0.00185092]) = 0.00000\n",
      ">22 f([-0.00148074]) = 0.00000\n",
      ">23 f([-0.00118459]) = 0.00000\n",
      ">24 f([-0.00094767]) = 0.00000\n",
      ">25 f([-0.00075814]) = 0.00000\n",
      ">26 f([-0.00060651]) = 0.00000\n",
      ">27 f([-0.00048521]) = 0.00000\n",
      ">28 f([-0.00038817]) = 0.00000\n",
      ">29 f([-0.00031053]) = 0.00000\n",
      "Done!\n",
      "f([-0.00031053]) = 0.000000\n"
     ]
    }
   ],
   "source": [
    "# define range for input\n",
    "bounds = np.asarray([[-1.0, 1.0]])\n",
    "# define the total iterations\n",
    "n_iter = 30\n",
    "# define the maximum step size\n",
    "step_size = 0.1\n",
    "# perform the gradient descent search\n",
    "best, score = gradient_descent(objective, derivative, bounds, n_iter, step_size)\n",
    "print('Done!')\n",
    "print('f(%s) = %f' % (best, score))"
   ]
  },
  {
   "cell_type": "code",
   "execution_count": 22,
   "metadata": {},
   "outputs": [],
   "source": [
    "# gradient descent algorithm\n",
    "def gradient_descent(objective, derivative, bounds, n_iter, step_size):\n",
    "\t# track all solutions\n",
    "\tsolutions, scores = list(), list()\n",
    "\t# generate an initial point\n",
    "\tsolution = bounds[:, 0] + np.random.rand(len(bounds)) * (bounds[:, 1] - bounds[:, 0])\n",
    "\t# run the gradient descent\n",
    "\tfor i in range(n_iter):\n",
    "\t\t# calculate gradient\n",
    "\t\tgradient = derivative(solution)\n",
    "\t\t# take a step\n",
    "\t\tsolution = solution - step_size * gradient\n",
    "\t\t# evaluate candidate point\n",
    "\t\tsolution_eval = objective(solution)\n",
    "\t\t# store solution\n",
    "\t\tsolutions.append(solution)\n",
    "\t\tscores.append(solution_eval)\n",
    "\t\t# report progress\n",
    "\t\tprint('>%d f(%s) = %.5f' % (i, solution, solution_eval))\n",
    "\treturn [solutions, scores]"
   ]
  },
  {
   "cell_type": "code",
   "execution_count": 23,
   "metadata": {},
   "outputs": [
    {
     "name": "stdout",
     "output_type": "stream",
     "text": [
      ">0 f([-0.08111138]) = 0.00658\n",
      ">1 f([-0.0648891]) = 0.00421\n",
      ">2 f([-0.05191128]) = 0.00269\n",
      ">3 f([-0.04152903]) = 0.00172\n",
      ">4 f([-0.03322322]) = 0.00110\n",
      ">5 f([-0.02657858]) = 0.00071\n",
      ">6 f([-0.02126286]) = 0.00045\n",
      ">7 f([-0.01701029]) = 0.00029\n",
      ">8 f([-0.01360823]) = 0.00019\n",
      ">9 f([-0.01088658]) = 0.00012\n",
      ">10 f([-0.00870927]) = 0.00008\n",
      ">11 f([-0.00696741]) = 0.00005\n",
      ">12 f([-0.00557393]) = 0.00003\n",
      ">13 f([-0.00445915]) = 0.00002\n",
      ">14 f([-0.00356732]) = 0.00001\n",
      ">15 f([-0.00285385]) = 0.00001\n",
      ">16 f([-0.00228308]) = 0.00001\n",
      ">17 f([-0.00182647]) = 0.00000\n",
      ">18 f([-0.00146117]) = 0.00000\n",
      ">19 f([-0.00116894]) = 0.00000\n",
      ">20 f([-0.00093515]) = 0.00000\n",
      ">21 f([-0.00074812]) = 0.00000\n",
      ">22 f([-0.0005985]) = 0.00000\n",
      ">23 f([-0.0004788]) = 0.00000\n",
      ">24 f([-0.00038304]) = 0.00000\n",
      ">25 f([-0.00030643]) = 0.00000\n",
      ">26 f([-0.00024514]) = 0.00000\n",
      ">27 f([-0.00019612]) = 0.00000\n",
      ">28 f([-0.00015689]) = 0.00000\n",
      ">29 f([-0.00012551]) = 0.00000\n"
     ]
    }
   ],
   "source": [
    "# perform the gradient descent search\n",
    "solutions, scores = gradient_descent(objective, derivative, bounds, n_iter, step_size)"
   ]
  },
  {
   "cell_type": "code",
   "execution_count": 25,
   "metadata": {},
   "outputs": [
    {
     "data": {
      "text/plain": [
       "[<matplotlib.lines.Line2D at 0x19ac8461100>]"
      ]
     },
     "execution_count": 25,
     "metadata": {},
     "output_type": "execute_result"
    },
    {
     "data": {
      "image/png": "[encoded data removed]",
      "text/plain": [
       "<Figure size 432x288 with 1 Axes>"
      ]
     },
     "metadata": {
      "needs_background": "light"
     },
     "output_type": "display_data"
    }
   ],
   "source": [
    "# sample input range uniformly at 0.1 increments\n",
    "inputs = np.arange(bounds[0,0], bounds[0,1]+0.1, 0.1)\n",
    "# compute targets\n",
    "results = objective(inputs)\n",
    "# create a line plot of input vs result\n",
    "pyplot.plot(inputs, results)"
   ]
  },
  {
   "cell_type": "code",
   "execution_count": 26,
   "metadata": {},
   "outputs": [
    {
     "data": {
      "text/plain": [
       "[<matplotlib.lines.Line2D at 0x19ac84b6b50>]"
      ]
     },
     "execution_count": 26,
     "metadata": {},
     "output_type": "execute_result"
    },
    {
     "data": {
      "image/png": "[encoded data removed]",
      "text/plain": [
       "<Figure size 432x288 with 1 Axes>"
      ]
     },
     "metadata": {
      "needs_background": "light"
     },
     "output_type": "display_data"
    }
   ],
   "source": [
    "# plot the solutions found\n",
    "pyplot.plot(solutions, scores, '.-', color='red')"
   ]
  },
  {
   "cell_type": "code",
   "execution_count": 27,
   "metadata": {},
   "outputs": [
    {
     "data": {
      "image/png": "[encoded data removed]",
      "text/plain": [
       "<Figure size 432x288 with 1 Axes>"
      ]
     },
     "metadata": {
      "needs_background": "light"
     },
     "output_type": "display_data"
    }
   ],
   "source": [
    "# Running the example performs the gradient descent search on the objective function as before, except in this case, each point found during the search is plotted.\n",
    "pyplot.plot(inputs, results)\n",
    "pyplot.plot(solutions, scores, '.-', color='red')\n",
    "pyplot.show()"
   ]
  },
  {
   "cell_type": "code",
   "execution_count": null,
   "metadata": {},
   "outputs": [],
   "source": []
  }
 ],
 "metadata": {
  "kernelspec": {
   "display_name": "Python 3",
   "language": "python",
   "name": "python3"
  },
  "language_info": {
   "codemirror_mode": {
    "name": "ipython",
    "version": 3
   },
   "file_extension": ".py",
   "mimetype": "text/x-python",
   "name": "python",
   "nbconvert_exporter": "python",
   "pygments_lexer": "ipython3",
   "version": "3.8.5"
  }
 },
 "nbformat": 4,
 "nbformat_minor": 4
}
