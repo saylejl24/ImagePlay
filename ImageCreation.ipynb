{
 "cells": [
  {
   "cell_type": "markdown",
   "metadata": {},
   "source": [
    "# Pencil Sketch"
   ]
  },
  {
   "cell_type": "code",
   "execution_count": 3,
   "metadata": {},
   "outputs": [],
   "source": [
    "import cv2"
   ]
  },
  {
   "cell_type": "code",
   "execution_count": 4,
   "metadata": {},
   "outputs": [],
   "source": [
    "img = cv2.imread('Sayle_Jenna.jpg')"
   ]
  },
  {
   "cell_type": "code",
   "execution_count": 5,
   "metadata": {},
   "outputs": [],
   "source": [
    "gray_image = cv2.cvtColor(img, cv2.COLOR_BGR2GRAY) "
   ]
  },
  {
   "cell_type": "code",
   "execution_count": 6,
   "metadata": {},
   "outputs": [],
   "source": [
    "inverted_gray_image = 255 - gray_image"
   ]
  },
  {
   "cell_type": "code",
   "execution_count": 7,
   "metadata": {},
   "outputs": [],
   "source": [
    "blurred_img = cv2.GaussianBlur(inverted_gray_image, (21,21),0) "
   ]
  },
  {
   "cell_type": "code",
   "execution_count": 8,
   "metadata": {},
   "outputs": [],
   "source": [
    "inverted_blurred_img = 255 - blurred_img"
   ]
  },
  {
   "cell_type": "code",
   "execution_count": 9,
   "metadata": {},
   "outputs": [],
   "source": [
    "pencil_sketch_IMG = cv2.divide(gray_image, inverted_blurred_img, scale = 256.0)"
   ]
  },
  {
   "cell_type": "code",
   "execution_count": 11,
   "metadata": {},
   "outputs": [
    {
     "data": {
      "text/plain": [
       "48"
      ]
     },
     "execution_count": 11,
     "metadata": {},
     "output_type": "execute_result"
    }
   ],
   "source": [
    "#Show the original image\n",
    "cv2.imshow('Original Image', img)\n",
    "#Show the inverted gray image\n",
    "cv2.imshow('inverted gray image', inverted_gray_image)\n",
    "#Show the new image pencil sketch\n",
    "cv2.imshow('Pencil Sketch', pencil_sketch_IMG)\n",
    "#Display the window infinitely until any keypress\n",
    "cv2.waitKey(0)"
   ]
  },
  {
   "cell_type": "markdown",
   "metadata": {},
   "source": [
    "# ASCII Art\n"
   ]
  },
  {
   "cell_type": "code",
   "execution_count": null,
   "metadata": {},
   "outputs": [],
   "source": [
    "from PIL import Image"
   ]
  },
  {
   "cell_type": "code",
   "execution_count": null,
   "metadata": {},
   "outputs": [],
   "source": [
    "characters = ['@', '#', 'S', '$', '*', ';', ':', ',', '.','-', '_']"
   ]
  },
  {
   "cell_type": "code",
   "execution_count": null,
   "metadata": {},
   "outputs": [],
   "source": [
    "# Resize image\n",
    "def image_resize(image, new_width = 150):\n",
    "    width, height = image.size\n",
    "    ratio = height / width \n",
    "    new_height = int(new_width / ratio)\n",
    "    image_resize = image.resize((new_width, new_height))\n",
    "    return(image_resize)"
   ]
  },
  {
   "cell_type": "code",
   "execution_count": null,
   "metadata": {},
   "outputs": [],
   "source": [
    "# convert each pixel to greyscale\n",
    "def greyscaled(image):\n",
    "    greyscaled_image = image.convert('L')\n",
    "    return(greyscaled_image)"
   ]
  },
  {
   "cell_type": "code",
   "execution_count": null,
   "metadata": {},
   "outputs": [],
   "source": [
    "# convert pixels to a string of corresponding of ASCII values\n",
    "def pixels_to_ascii(image):\n",
    "    pixels = image.getdata()\n",
    "    ascii_char = ''.join([characters[pixel//25] for pixel in pixels])\n",
    "    return(ascii_char)"
   ]
  },
  {
   "cell_type": "code",
   "execution_count": null,
   "metadata": {},
   "outputs": [],
   "source": [
    "image = Image.open('Sayle_Jenna.jpg')"
   ]
  },
  {
   "cell_type": "code",
   "execution_count": null,
   "metadata": {},
   "outputs": [],
   "source": [
    "def take_image_path(new_width=150):\n",
    "    # Using User Input\n",
    "    path = input(\"Enter a valid path to the image ==>> \\n \")\n",
    "    try:\n",
    "        image = Image.open(path).convert('RGB')\n",
    "    except Exception as e:\n",
    "        print(path, \"is not a valid image path! Try again.\")\n",
    "\n",
    "    # Convert image to ascii\n",
    "    new_data = pixels_to_ascii(greyscaled(image_resize(image)))\n",
    "\n",
    "    # format in our aspect ratio\n",
    "    pixel_count = len(new_data)\n",
    "    ascii_image = '\\n'.join([new_data[i:(i+new_width)] for i in range( 0, pixel_count, new_width)])\n",
    "\n",
    "    #print\n",
    "    print(ascii_image)\n",
    "\n",
    "    #save output\n",
    "    with open(path + '.txt', 'w') as f:\n",
    "        f.write(ascii_image)"
   ]
  },
  {
   "cell_type": "code",
   "execution_count": 9,
   "metadata": {},
   "outputs": [
    {
     "name": "stdout",
     "output_type": "stream",
     "text": [
      "Enter a valid path to the image ==>> \n",
      " Sayle_Jenna.jpg\n",
      "SSSSSSSSSSSSSSSSSSSSSSSSSSSSSSSSSSSSSSSSSSSSSSSSSSSSSSSSSSSSSSSSSSSSSSSSSSSSSSSSSSSSSSSSSSSSSSSSSSSSSSSSSSSSSSSSSSSSSSSSSSSSSSSSSSSSSSSSSSSSSSSSSSSSSS\n",
      "SSSSSSSSSSSSSSSSSSSSSSSSSSSSSSSSSSSSSSSSSSSSSSSSSSSSSSSSSSSSSSSSSSSSSSSSSSSSSSSSSSSSSSSSSSSSSSSSSSSSSSSSSSSSSSSSSSSSSSSSSSSSSSSSSSSSSSSSSSSSSSSSSSSSSS\n",
      "SSSSSSSSSSSSSSSSSSSSSSSSSSSSSSSSSSSSSSSSSSSSSSSSSSSSSSSSSSSSSSSSSSSSSSSSSSSSSSSSSSSSSSSSSSSSSSSSSSSSSSSSSSSSSSSSSSSSSSSSSSSSSSSSSSSSSSSSSSSSSSSSSSSSSS\n",
      "SSSSSSSSSSSSSSSSSSSSSSSSSSSSSSSSSSSSSSSSSSSSSSSSSSSSSSSSSSSSSSSSSSSSSSSSSSSSSSSSSSSSSSSSSSSSSSSSSSSSSSSSSSSSSSSSSSSSSSSSSSSSSSSSSSSSSSSSSSSSSSSSSSSSSS\n",
      "SSSSSSSSSSSSSSSSSSSSSSSSSSSSSSSSSSSSSSSSSSSSSSSSSSSSSSSSSSSSSSSSSSSSSSSSSSSSSSSSSSSSS##SSSSSSSSSSSSSSSSSSSSSSSSSSSSSSSSSSSSSSSSSSSSSSSSSSSSSSSSSSSSSSS\n",
      "SSSSSSSSSSSSSSSSSSSSSSSSSSSSSSSSSSSSSSSSSSSSSSSSSSSSSSSSSSSSSSSSSSSS##############@###########SSSSSSSSSSSSSSSSSSSSSSSSSSSSSSSSSSSSSSSSSSSSSSSSSSSSSSSS\n",
      "SSSSSSSSSSSSSSSSSSSSSSSSSSSSSSSSSSSSSSSSSSSSSSSSSSSSSSSSSSSSSSSS###@@####SS#######@@@#@@@@@@@#####SSSSSSSSSSSSSSSSSSSSSSSSSSSSSSSSSSSSSSSSSSSSSSSSSSSS\n",
      "SSSSSSSSSSSSSSSSSSSSSSSSSSSSSSSSSSSSSSSSSSSSSSSSSSSSSSSSSSSS###@@@@@@###SSSSS###@@###################SSSSSSSSSSSSSSSSSSSSSSSSSSSSSSSSSSSSSSSSSSSSSSSSS\n",
      "SSSSSSSSSSSSSSSSSSSSSSSSSSSSSSSSSSSSSSSSSSSSSSSSSSSSSSSSS##@@@@@@@####SSSSSS##@#@@@@@############@#####SSSSSSSSSSSSSSSSSSSSSSSSSSSSSSSSSSSSSSSSSSSSSSS\n",
      "SSSSSSSSSSSSSSSSSSSSSSSSSSSSSSSSSSSSSSSSSSSSSSSSSSSSS##@@@@@@@@@@#####SSSSSS#@@###@##########SS##########SSSSSSSSSSSSSSSSSSSSSSSSSSSSSSSSSSSSSSSSSSSSS\n",
      "SSSSSSSSSSSSSSSSSSSSSSSSSSSSSSSSSSSSSSSSSSSSSSSSSSS##@@@@@@@@@@@@@###SSSSSS####@@@@@@@#####SSSSSSSSS#######SSSSSSSSSSSSSSSSSSSSSSSSSSSSSSSSSSSSSSSSSSS\n",
      "SSSSSSSSSSSSSSSSSSSSSSSSSSSSSSSSSSSSSSSSSSSSSSSS##@@@@@@@@@@@@@@@##SSSSSSS$S##@@@@@@@@######SSS$$$$$$$SS####SSSSSSSSSSSSSSSSSSSSSSSSSSSSSSSSSSSSSSSSSS\n",
      "SSSSSSSSSSSSSSSSSSSSSSSSSSSSSSSSSSSSSSSSSSSSSS##@@@@@@@@@@@@@@@#####SSSS$$*SS##@@@@@@@@@@##SS$S$$$$$$$$$$SS###SSSSSSSSSSSSSSSSSSSSSSSSSSSSSSSSSSSSSSSS\n",
      "SSSSSSSSSSSSSSSSSSSSSSSSSSSSSSSSSSSSSSSSSSSS##@@@@@@@@@@@@@@@@@@@@@#SSSS$$$$SS###@@@@@@@@####SS$$$$$*$$$$$$$S##SSSSSSSSSSSSSSSSSSSSSSSSSSSSSSSSSSSSSSS\n",
      "SSSSSSSSSSSSSSSSSSSSSSSSSSSSSSSSSSSSSSSSSSS#@@@@@@@@@@@@@@@@@@@@@@###SS$$$*$$S###@@@#######SSSSS$$$*$$$$$$$$$$S###SSSSSSSSSSSSSSSSSSSSSSSSSSSSSSSSSSSS\n",
      "SSSSSSSSSSSSSSSSSSSSSSSSSSSSSSSSSSSSSSSSS#@@@@@@@@@@@@@@@@@@@@@@@@@###SS$$*$$$SSS######S$$SSS$$$$$$$$$$$SSSSS$$$##SSSSSSSSSSSSSSSSSSSSSSSSSSSSSSSSSSSS\n",
      "SSSSSSSSSSSSSSSSSSSSSSSSSSSSSSSSSSSSSSSS@@@@@@@@@@@@@@@@@@@@@@######SSS$$$$$$$$$$SSSS#####S$$$$$$$$$$$$SSSSSSSS$$SSSSSSSSSSSSSSSSSSSSSSSSSSSSSSSSSSSSS\n",
      "SSSSSSSSSSSSSSSSSSSSSSSSSSSSSSSSSSSSSS#@@@@@@@@@@@@@@@@@@@@@####SSSSS$$$$$****;;;;;;***$$S###SS$$$$$$SSSSSS#####S$$S$$S$SSSSSSSSSSSSSSSSSSSSSSSSSSSSSS\n",
      "SSSSSSSSSSSSSSSSSSSSSSSSSSSSSSSSSSSSS#@@@@@@@@@@@@@@@@@@@####SSS$$$*****;;;;;;:::::::;:;;;*$$S##S$$SSSSSS#########S$$$$SSSSSSSSSSSSSSSSSSSSSSSSSSSSSSS\n",
      "SSSSSSSSSSSSSSSSSSSSSSSSSSSSSSSSSSSS#@@@@@@@@@@@@@@@@@@@##SS$$**;;;;::::::::::::,,:,:::::::;;;**$SS$$S#####@@@@@@@@#S$*$SSSSSSSSSSSSSSSSSSSSSSSSSSSSSS\n",
      "SSSSSSSSSSSSSSSSSSSSSSSSSSSSSSSSSSS#@@@@@@@@@@@@@@@@@@##S$**;;;;:::::,,,,,,,,,,,,,,,,,,,,,::::;;;*$$$$S##@@@@@@@@@@@#S$*$SSSSSSSSSSSSSSSSSSSSSSSSSSSSS\n",
      "SSSSSSSSSSSSSSSSSSSSSSSSSSSSSSSSSS#@@@@@@@@@@@@@@@@@#SS$**;;;:::::::,,,,,,,,,,,,,,,,,,,,..,:,::;;;**$$$S##@@@@@@@@@@@#S**$SSSSSSSSSSSSSSSSSSSSSSSSSSSS\n",
      "SSSSSSSSSSSSSSSSSSSSSSSSSSSSSSSSS#@@@@@@@@@@@@@@@@@#S$***;;;:::::::::,,,,,,,,,,,,,,,,,,......,,:;;;*$$$$SS#@@@@@@@@@@@#$*$$SSSSSSSSSSSSSSSSSSSSSSSSSSS\n",
      "SSSSSSSSSSSSSSSSSSSSSSSSSSSSSSSS#@@@@@@@@@@@@@@@@#S$$****;;:::::::::::,,,,,,,,,,,,,,.,....---...:;*;*$*$SSS#@@@@@@@@@@@S$$$$SSSSSSSSSSSSSSSSSSSSSSSSSS\n",
      "SSSSSSSSSSSSSSSSSSSSSSSSSSSSSSS#@@@@@@@@@@@@@@@@#S$******;;;;:::::::::::,,,,,,,,,,,,,....----....,:;;*$*$SSSS#@@@@@@@@@@S$$$SSSSSSSSSSSSSSSSSSSSSSSSSS\n",
      "SSSSSSSSSSSSSSSSSSSSSSSSSSSSSS#@@@@@@@@@@@@@@@@@S$********;;;;:::::::::::,,,,,,,,,,,,,,............,,:;**$S#SS#@@@@@@@@@#$*$$SSSSSSSSSSSSSSSSSSSSSSSSS\n",
      "SSSSSSSSSSSSSSSSSSSSSSSSSSSSSS#@@@@@@@@@@@@@@@@#$$$********;;;;:::::::::::,,,,,,..,,,,,,..............,,:;*SSSS#@@@@@@@@@S**S$SSSSSSSSSSSSSSSSSSSSSSSS\n",
      "SSSSSSSSSSSSSSSSSSSSSSSSSSSSS#@@@@@@@@@@@@@@@@@S$$********;;;;;::::::::::::,,,,....,,,,,.............,,,,::;$SSS##@@@@@@@#S$$SSSSSSSSSSSSSSSSSSSSSSSSS\n",
      "SSSSSSSSSSSSSSSSSSSSSSSSSSSS#@@@@@@@@@@@@@@@@@#$$$$******;;;;;:::::::::::::::,,,....................,,,,::::;$S####@@@@@@@#$$$SSSSSSSSSSSSSSSSSSSSSSSS\n",
      "SSSSSSSSSSSSSSSSSSSSSSSSSSS#@@@@@@@@@@@@@@@@@@#$$$$*****;;;;;:::::::::::::::::,,,.................,,,,,,,::;;;$S#@###@@@@@#S$*$SSSSSSSSSSSSSSSSSSSSSSS\n",
      "SSSSSSSSSSSSSSSSSSSSSSSSSSS#@@@@@@@@@@@@@@#@@@S$$$$*****;;;;;::::::::::::::::::,,,,,...............,,,,,,,,:;**$#@@@#@@@@@@#S*$SSS$SSSSSSSSSSSSSSSSSSS\n",
      "SSSSSSSSSSSSSSSSSSSSSSSSSS#@@@@@@@@@@@@@@@##@@S$$$*****;;;;;;:::::::::::::::::::::,,,,,.............,,,,,,,,:;$$#@@@@#@@@@@##$$$SSSSSSSSSSSSSSSSSSSSSS\n",
      "SSSSSSSSSSSSSSSSSSSSSSSSS#@@@@@@@@@@@@@@@@@#@#$$$$$$$$*****;;;;;;;::::::::::::::::::::,,,,,,,,,,,,,,..,,,,,,::;$S#@@@@@@@@@##S$$S$SSSSSSSSSSSSSSSSSSSS\n",
      "SSSSSSSSSSSSSSSSSSSSSSSSS#@@@@@@@@@@@@@@@#@@@#SSSS######SSS$$***;;;;;;::::::::::::::::;;;;;;********;:,,,,,,,,:;$S@@@@@@@@@###$$S$SSSSSSSSSSSSSSSSSSSS\n",
      "SSSSSSSSSSSSSSSSSSSSSSSSS#@@@@@@@@@@@@@@@#@@@@####SSSS#######SS$$$***;;;;;;::;:;;;;*$$SSSS#SSSS$****$$$*:,,,,,,::;S#@@@@@@@###S$$SSSSSSSSSSSSSSSSSSSSS\n",
      "SSSSSSSSSSSSSSSSSSSSSSSSS@@@@@@@@@@@@@@@@#@@@#SS$$$$$$$$SSSSSS##SSS$$**;;;::::;;;**$$$SSSS$$**;;::::::;;*;:,,,,,::;$####@@@SS#SS$SSSSSSSSSSSSSSSSSSSSS\n",
      "SSSSSSSSSSSSSSSSSSSSSSSS#@@@@@@@@@@@@@@@@@@@@#S$$$SSSSSSSS####SSSSSSS$$*;;:::::;;***$$$SSSSSSS$$$*;;::,,,::,,,,,,,;$S@@@@@##S@SSS$SSSSSSSSSSSSSSSSSSSS\n",
      "SSSSSSSSSSSSSSSSSSSSSSS#@@@@@@@@@@@@@@@@@@@@@#SSSS######S##S####SSSSSS$$*;:,,,,:;;***$SSS$SS$$$SSSSS$*;::,,,,,,,,,:*S#@@@@@#S@#SS$SSSSSSSSSSSSSSSSSSSS\n",
      "SSSSSSSSSSSSSSSSSSSSSSS#@@@@@@@@@@@@@@@@@@@@@@#S####@##@@#@@######SSSS$$*:,...,,:;**$$SSS##@S$#$SSSSS$*;::,,,,,,,,:*S#@@@@@#S@#SSSSSSSSSSSSSSSSSSSSSSS\n",
      "SSSSSSSSSSSSSSSSSSSSSS#@@@@@@@@@@@@@@@@@@@@@@#SSSS###SS###@@#SS###SSSS$$*:,....,::;*$SS$$S#@@SS;*$$**;;::,,.,,,,,,:;$S#@@@@#S##SSSSSSSSSSSSSSSSSSSSSSS\n",
      "SSSSSSSSSSSSSSSSSSSSSS#@@@@@@@@@@@@@@@@@@@@##S$$$$$$$$$$$$$$$*$SSSSS$$$$;:,.....,.,:******$$$*;;::,,,,......,,,,,,:;$S#@@@@###@SS#SSSSSSSSSSSSSSSSSSSS\n",
      "SSSSSSSSSSSSSSSSSSSSSS#@@@@@@@@@@@@@@@@@@@##S$**;*********;;;****$$$$$$$;:,........,:;;;;;;;;::,,,,.........,,,,,,:;$S@@@@@###@SSSSSSSSSSSSSSSSSSSSSSS\n",
      "SSSSSSSSSSSSSSSSSSSSS#@@@@@@@@@@@@@@@@@@@@##$**;;::::;;;;;;;;;;;***$$$$*;:,..........,,::::::::,,,,,.......,,,,,,,:;$S@@@@@###@#$S#SSSSSSSSSSSSSSSSSSS\n",
      "SSSSSSSSSSSSSSSSSSSSS#@@@@@@@@@@@@@@@@@@@@#S$**;;::::,,,,:::::;;;**$$$$*;,,.-............,,,,,,,,,..........,,,,,,:*$$@@@@@###@#SS#SSSSSSSSSSSSSSSSSSS\n",
      "SSSSSSSSSSSSSSSSSSSS##@@@@@@@@@@@@@@@@@@@@#S$**;;;::::,,,:::::;;;***$$$*;,,................,,,,....-.....,,,,,,:::;*$$@@@@@###@#SSS#SSSSSSSSSSSSSSSSSS\n",
      "SSSSSSSSSSSSSSSSSSSS#@@@@@@@@@@@@@@@@@@@@@#S$$**;;:::::::::::::;;***$$$*:,........................---.....,,,,,::;**$S@@@@@S##@@SSS#SSSSSSSSSSSSSSSSSS\n",
      "SSSSSSSSSSSSSSSSSSSS#@@@@@@@@@@@@@@@@@@@@@#$$$**;;::::::::::::;;**$$$*;;:,......................-----.....,,,,::;;**$S##@@@S##@@SSS#SSSSSSSSSSSSSSSSSS\n",
      "SSSSSSSSSSSSSSSSSSSS#@@@@@@@@@@@@@@@@@@@@@#$$$***;;:::::::::;;;*$$$$**;:,,........,,:;:::,,,....----......,,,,:;;;;**S#@@@####@@#S###SSSSSSSSSSSSSSSSS\n",
      "SSSSSSSSSSSSSSSSSSSS#@@@@@@@@@@@@@@@@@@@@@#$$$$**;;;::::::;;;*$S$$$$$*;:,,,.--......,;**;;:::,,,.........,,,,::;;*$**$##@@#S###@#S###SSSSSSSSSSSSSSSSS\n",
      "SSSSSSSSSSSSSSSSSSS#@@@@@@@@@@@@@@@@@@@@@@@S$$$$****;;;;;;**$SSS$$$$$$$*;::,,,,:::,,,;$$$$*;;:::,,,,,,,,,,,,::;;*#@@####@@#S@#@@#S###S##SSSSSSSSSSSSSS\n",
      "SSSSSSSSSSSSSSSSSSS#@@@@@@@@@@@@@@@@@@@@@@@S$$$$$$********$$SSSSSSS###SS$$**;;$SSS$*:;*$SS$$*;;:::::,,,::,:::;;;#@@@@@#@@@#S@@@###S#####SSSSSSSSSSSSSS\n",
      "SSSSSSSSSSSSSSSSSSS#@@@@@@@@@@@@@@@@@@@@@@@#SS$$$$$$****$$S#SSSSSSS#####SSSSSSSSS$;:,,:;$SSSS$**;;:::::::::::;;$@@@@@@@@@@##@@#@##S#####SSSSSSSSSSSSSS\n",
      "SSSSSSSSSSSSSSSSSSS#@@@@@@@@@@@@@@@@@@@@@@@@SSSS$$$$$$$SS##SSS$$$$$$$SSSSSSSS$;;:,....,,;*S#SSS$**;;;::::;:::;*#@@@@@@@@@@S#@@#@##SSS###SSSSSSSSSSSSSS\n",
      "SSSSSSSSSSSSSSSSSSS@@@@@@@@@@@@@@@@@@@@@@@@@#SSSSSS$SS###SS$$$$$$$$$$$$****;;:,,........,:*S###S$$*;;;;;;;;::;$@@@@@@@@@@@##@@#@#@#SSS##SSSSSSSSSSSSSS\n",
      "SSSSSSSSSSSSSSSSSS#@@@@@@@@@@@@@@@@@@@@@@@@@#SSSSS$$$S###SS$$$$$$S$$$$$**;;;;;;;;:::::::::;$S###S$*;;:::;::::;S@@@@@@@@@@@###@#@####SSS##SSSSSSSSSSSSS\n",
      "SSSSSSSSSSSSSSSSSS#@@@@@@@@@@@@@@@@@@@@##@@@@SSSS$$$$SSS###############SSSSS$$SS$$S$$$$$$####SSSS$*;;:::::::;*#@@@@@@@@@@@#S@@#@#####S###SSSSSSSSSSSSS\n",
      "SSSSSSSSSSSSSSSSSS#@@@@@@@@@@@@@@@@@@@####@@@#SSS$$$$$$SSS#@@#SSS*$S$*$*;;*;:,,;,,;:,::;$SS*;;*$$$;;::::::::;$@@@@@@@@@@@@##@@#@###@#S###SSSSSSSSSSSSS\n",
      "SSSSSSSSSSSSSSSSS##@@@@@@@@@@@@@@@@@@@######@@#SSS$$$$$$$$$S##S$$**$;:;:,.,,.--..-,,.:::::,.,,:;*;;;;::::::;;#@@@@@@@@@@@###@@#@####@S###SSSSSSSSSSSSS\n",
      "SSSSSSSSSSSSSSSSS#@@@@@@@@@@@@@@@@@@@@#######@#SSSS$$*$**$$$$$SSS$SS$**;:::::,,;:;*;,,:,,,..,,,:;;;;;::::;;;S@@@@@@@@@@@@###@@######@#S##SSSSSSSSSSSSS\n",
      "SSSSSSSSSSSSSSSSS#@@@@@@@@@@@@@@@@@@@@####S##@##SSS$$$$******$$$$$$$$$$******;;;;;:,,,:,,..,,,,:;;;;;::;;;;$#@@@@@@@@@@@@###@@######@#SS##SSSSSSSSSSSS\n",
      "SSSSSSSSSSSSSSSSS#@@@@@@@@@@@@@@@@@@@@###SS######SSSS$$$$****$$$SSS$*;;;;;;;;;;;;;;;;:,,,,,,,,:::;;;;;;;;*$#@@@@@@@@@@@@@##S#@####@#@#SS##SSSSSSSSSSSS\n",
      "SSSSSSSSSSSSSSSSS#@@@@@@@@@@@@@@@@@@@@###SS#@@@###SSSSS$$$***$$$$SSSSS$$$***$****;;:,,,,,,,,,,:::::;;;;**$###@@@@@@@@@@@#####@####@#@@#SS#SSSSSSSSSSSS\n",
      "SSSSSSSSSSSSSSSSS@@@@@@@@@@@@@@@@@@@@@###SS#@@@@###SSSSSS$$$**$$$$$$$$$$$$$$$$**;;::,,,,,,,,,,,:::;;;***$####@@@@@@@@@@@##S##@####@##@#SS#SSSSSSSSSSSS\n",
      "SSSSSSSSSSSSSSSS#@@@@@@@@@@@@@@@@@@@@@###SSS@@@@@####SSSSS$$$**$$$$$*********;;;;:::,,,,,,,,,,:::;;***;;S###@@@@@@@@@@@@#SS##@#S#S@##@#S#SSSSSSSSSSSSS\n",
      "SSSSSSSSSSSSSSSS#@@@@@@@@@@@@@@@@@@@@@###SSS@@@@@@@@##SSSSS$$$****$***;;;;;:::::::,,,,,,,,,,,::;;*$*;;;$####@#@@@@@@@@@@#SS##@#S#S@####SS#SSSSSSSSSSSS\n",
      "SSSSSSSSSSSSSSSS#@@@@@@@@@@@@@@@@@@@@####SSS@@@@@@@@@@##SSSS$$$*;;;;;;:::::::,,,,,,...,.,,,,::;*$$*:::;S###@@@@@@@@@@@@@#SSS###SS#@@####S#SSSSSSSSSSSS\n",
      "SSSSSSSSSSSSSSSS@@@@@@@@@@@@@@@@@@@@@@###SSS#@@@@@@@@@@@##SSS$$$*;:;;;:::::::,,,,,,.....,,::;*$$*::::;$###@@@@@@@@@@@@@@##SS###SS#@@####S#SSSSSSSSSSSS\n",
      "SSSSSSSSSSSSSSS#@@@@@@@@@@@@@@@@@@@@@#####S$#@@@@@@@@@@@@@@##SS$$$*;;;;;;:::::::::,,,,,,::;$$$*;:::::*S###@@@@@@@@@@@@@###SSS#@SSS@@##@#S##SSSSSSSSSSS\n",
      "SSSSSSSSSSSSSSS#@@@@@@@@@@@@@@@@@@@@@######$#@@@@@@@@@@@@@@@@@#SSS$$****;;;;;;*;;;:::::;;*$$*;::::::;$###@@#@@@@@@@@@@@###SSS#@S##@@####S##SSSSSSSSSSS\n",
      "SSSSSSSSSSSSSS#@@@@@@@@@@@@@@@@@@@@@@#####SSS@@@@@@@@@@@@@@@@@@@##SSSS$$$$**$$$$$*****$$$**;:::::::;*S######@@@@@#@@@@@###SSS#@S##@@#####S#SSSSSSSSSSS\n",
      "SSSSSSSSSSSSS##@@@@@@@@@@@@@@@@@@@@@@@##@#SSS@@@@@@@@@@@@@@@@@@############S######SSS$**;;;::::::::;$#######@@@@##@@@@@###SSS#@S#S@@@####S#SSSSSSSSSSS\n",
      "SSSSSSSSSSSS###@@@@@@@@@@@@@@@@@@@@@@@##@##S#@@@@@@@@@@@@@@@@@@##############SSS$$$**;;;::::::,:::;$#######@@#@@##@@@@@###SSS##SS##@@####S##SSSSSSSSSS\n",
      "SSSSSSSSSSS####@@@@@@@@@@@@@@@@@@@@@@@##@####@@@@@@@@@@@@@@@@@@########SSSSSSS$$$***;;;;::::,,::::$##S#####@@#@###@@@@@###SSSS##SS#@@####S##SSSSSSSSSS\n",
      "SSSSSSSSSSS###@@@@@@@@@@@@@@@@@@@@@@@@###@####@@@@@@@@@@@@@@@@@#########SSSS$$$$$**;;;;::::::::::*S#######@@##@###@@@@@###SSSS##SS#@@####SS#SSSSSSSSSS\n",
      "SSSSSSSSSS###@@@@@@@@@@@@@@@@@@@@@@@@@##@####@@@@@@@@@@@@@@@@@###########SSSS$$$***;;:::::::::::*S########@@#@@#S#@@@@@#S#SSSS##SS#@@###@SS#SSSSSSSSSS\n",
      "SSSSSSSSS####@@@@@@@@@@@@@@@@@@@@#@@@@#@@####@#@@@@@@@@@@@@@@@#######SSSSSS$$$***;;;:::::::::::;$#######S#@@#@##S#@@@@@##SSSSS#SSS#@@@###SSSSSSSSSSSSS\n",
      "SSSSSSSSS###@@@@@@@@@@@@@@@@@@@@@@@@@@#@@###@@@@@@@@@@@@@@@@@########SSSSS$$$***;;;:::::::::::;$######SSS@@##@#SS#@@@@@##SSSSS#SSSS@@@####SSSSSSSSSSSS\n",
      "SSSSSSSS###@@@@@@@@@@@@@@@@@@@@@@@@@@@##@@#S@@@@@@@@@@@@@@@@#########SSSSS$$****;;;:::::::::;*$######SSS#@@S#@#S#@@@@@@#SSSSSS#SSSS@@@@###S#SSSSSSSSSS\n",
      "SSSSSSS####@@@@@@@@@@@@@@@@@@@@@@@@@@@##@@@#@@@@@@@@@@@@@@@@#######SSSSSSS$$$***;;;;;:::::::;$S#@####SS##@#S###S#@@@@@@#SSSSSS##SS$S@@@###S#SSSSSSSSSS\n",
      "SSSSSS####@@@@@@@@@@@@@@@@@@@@@@@@@@@@#@@@@##@@@@@@@@@@@@@@@######SSSSSS$$$$***;;;:::::::::;$S#@####SSS#@@#S##SS#@@@@@@@##SSSS###S$$#@@##@SSSSSSSSSSSS\n",
      "SSSSSS###@@@@@@@@@@@@@@@@@@@@@@@@@@@@@##@@@@#@@@@@@@@@@@@@@@#####SSSSSS$$$***;;;;::::::::;*$S#@@###SSS#@##SS#SSS#@@@@@@@#SSSSS###S$$S@@@#@#SSSSSSSSSSS\n",
      "SSSSS###@@@@@@@@@@@@@@@@@@@@@@@@@#@@@@##@@#@#@@@@@@@@@@@@@@@@###SSSSSS$$$$****;;;;;::::;;*$S##@##SSSSS@###$##SSS#@@@@@@@@SSSSS#@##$$SS@@#@#S#SSSSSSSSS\n",
      "SSSSS###@@@@@@@@@@@@@@@@@@@@@@@@@@@@@@##@@#@#@@@@@@@@@@@@@@@@###SSSSS$$$$$***;;;;;;;;;;;*$S##@@##SSSS#@##SS#SS$S###@@@@@@SSSSS####S$S$#@###SSS#SSSSSSS\n",
      "SSSS###@@@@@@@@@@@@@@@@@@@@@@@@@@@@@@@@@@@@@@@@@@@@@@@@@#@@@####SSS$$$$$$*****;;;;;;;;**$S#####SSSS$S@###SS#S$$S###@@@@@@#SS$S####S$#$S@####SS#SSSSSSS\n",
      "SSSS###@@@@@@@@@@@@@@@@@@@@@@@@@#@@@@@@@@@@@@@@@@@@@@@@@##@#####SSS$$$$$$******;;;;;**$$S#######SS$S####SS##S$$S###@@@@@@#SS$S###SS$##$#@###SS#SSSSSSS\n",
      "SSS###@@@@@@@@@@@@@@@@@@@@@@@@@@#@@@@@#@@@@@@@@@@@@@@@@@##@@####SS$$$$$$*************$SS###@####SSS#@###$S##S$SS###@@@@@@#SS$S###SS$S##$@###SSSSSSSSSS\n",
      "SS###@@@@@@@@@@@@@@@@@@@@@@@@@@@#@@@@@##@@@#@@@@@@@@@@@@########SS$$***************$$$SS##@#S##SSSS#@##S$##S$$SS#S#@@#@@@@#S$$###SS$$S#SS###SSS#SSSSSS\n",
      "SS###@@@@@@@@@@@@@@@@@@@@@@@@@@@#@@@@@#@@@@@@@@@@@@@@@@@#S######SS$$***;;;;;;;;***$$$SS##@@S##SSSS#@@##$S##S$$SS#SS@@##@@@#S$$###SS$$SSS$###SSS#SSSSSS\n",
      "S##@@@@@@@@@@@@@@@@@@@@@@@@@@@@@#@@@@@#@@@@@@@@@@@@@#@@@#SSSS####S$**;;;;;;;;;***$$$SSS##@#S##SSSS#@##SSS#SS$SSS#$S######@@S$$S##SS$$SSS$#@##SSSSSSSSS\n",
      "@@@@@@@@@@@@@@@@@@@@@@@@@@@@@@@@#@@@@@##@@@@@@@@@@@@@@@@#$SSSSSSSS$*;;;:::::;;;**$$$SS##@#S##S#SS###SS$SSSS$$SSS#$S###S#####S$S##SS$$*SS#S@###SSSSSSSS\n",
      "@@@@@@@@@@@@@@@@@@@@@@@@@@@@@@@##@@@@@@@#@@@@@@@@@@@@@@@##SS$$SSS$*;::::::::;;**$$SS###@#S##S##SS####SS#S#S$SSSS#$##S#S#SS#SS$$S##S$$*$S#S#@###SSSSSSS\n",
      "@@@@@@@@@@@@@@@@@@@@@@@@@@@@@@@#@@@@@@@@@@@@@@@@@#@@@@#@#@########SS$$**$$$$$SSS##@@@######S###S####SS#SSS$$SSSSS$SSSSS#SS#SS$$SSSS$$*$####@#S#SSSSSSS\n",
      "@@@@@@@@@@@@@@@@@@@@@@@@@@@@@@@#@@@@@#@#@@@@@@@@@#@@@@@#@###S####################@@@#######S##S####S$SSS#S$SSSS#$$SSSSSSSSSSS$$SSSS$S$$#S@S#####SSSSSS\n",
      "@@@@@@@@@@@@@@@@@@@@@@@@@@@@@@@#@@@@@#@#@@@@@@@@@##@@@@#@###SSSSSSSSS####SSSS####@@###########S###SSSSSS#S$SSSS#$$SSSSSSS$SS#$$$S#$$S$$S#@SS####SSSSSS\n",
      "@@@@@@@@@@@@@@@#@@@@@@@@@@@@@@@#@@@@@#@#@#@@@@@@@@#@@@@#@###SSSSSSSSSSSSSSSSS###@@######S####S###SSSS#SSSSSSSSSS$$SSSSSSS$S$SS$$S#S$S$$#@@SS@###SSSSSS\n",
      "@@@@@@@@@@@@@@@#@@@@@@@@@@@@@@##@@@@@#@#@@@@@@@@@@#@@@@@######SS##############@@@@######S###SS##SSSSS#SSSSS#$SSS$$SS$$SSS$SSSS$$$#S$SSS#@#SS@###SSSSSS\n",
      "@@@@@@@@@@@@@@@#@@@@@@@@@@@@@@##@@#@##@###@@#@@@@@#@@@@@#######SSSSSSSSSSS#####@@######S###SS#S##SSSS#S#S$SSSSSS$$$S$$SSS$$$SSSS$##$S#S#@#SS###S#SS$SS\n",
      "@@@@@@@@@@@@@@@@@@@@@@@@@@@@@@##@@#@##@##@@@####@@##@@#@@####SSSSSSSSSSSSS#####@######SS##SS#####SSS##SSSSSSSSSS$$SS$SSSS$$S$SSS$S#$S#S#@#SS####SSS$SS\n",
      "@@@@@@@@@@@@@@@@#@#@@@@@@@@@@#S#@@#@##@####@###@@@###@#@#####SSSSSSSSSSSS#####@@######S###S#####SSSS#SSS$SSS$SS$$$SSS$SSS$$S$SSS$S#$S#S#@##S#####SS$SS\n",
      "@@@@@@@@@@@@@@@@###@@@@@@@@@@@S#@@#@##@########@@@######@@##SSSSSSSSSSS######@@######S###SS#@@#SSSS##SSSSSS$$SS$$$SS$$SSS*SS$SSSSS#$S@##@##SS#####SSSS\n",
      "@@@@@@@@@@@@@@@@###@@@@@@@@@@#S#@@#@##@########@@@######@@##SSSSSSSSSSSSS###@@####@#SS##SS#@@#SSSSS#SSSSSSS$$S$$S$SS$$SSS*SS$SS#SS#SS@S#@##SS######SSS\n",
      "@@@@@@@@@@@@@@@@####@@@@@@@@@#S#@@@@#####@##S##@#@######@#SS###SSSSS#SSSS###@######SS##SS##@#S#SSS#S#SSS#SS$$S$S$$#S$$SSS*SSSSS##S#SS###@##SS######S$S\n",
      "@@@@@@@@@@@@@@@@####@@@@@@@@@#S#@@@######@##S###########@#S###SSSSSSSSSS###########S##SS##@@S##SS#SS#SS##S$*SS$$$S#$$$SS$$#$SSS##S#SS###@#@#S#####SS$S\n",
      "@@@@@@@@@@@@@@@@#S###@@@@@@@@#S#@@@########SSS#############SSSSSSSSSSSS###@###S###S#@#SS##@##@#S#SS#SSS##S$SSSS$$#SSSSSS$$#$SSS##S#SS###@#@#$S####S#S$\n",
      "@@@@@@@@@@@@@@@@#SS##@@@@@@@##S#@@@#######SSSSS######S####SSSSS#SSSSSSS############@#SS##@#S##SSSS#SSS##SS$SSSS$SSSSSS#S$$#$SSS####SS####@@#SS#@##SSS$\n",
      "@@@@@@@@@@@@@@@@@SS##@@@@@@@##SS#@@#######SS$SS#####SS###S$SS##SSSSSSS############@@S#S#@@S##S##S#SSSS###SS##SS$SSSSSS#S$S#$SSS####S##S##@@#S$#####S#$\n",
      "@@@@@@@@@@@@@@@@#S$#@@@@@@@@##SS#@@#######S$$SSS#S##SS###SSS##SSSSSSS#########@#S#@###S#@######S##SSSS###S###SS$SSSS###S$SS$SSSSS##SS#S##@@#S$#@###S#S\n",
      "@@@@@@@@@@@@@@@@##$S@@@@@#@###SS##########S$$SSSSSS#SS##SSSSSSSSSSSS###########S#@@S#SS@@###@#S##SSS#S#@#S#@SSS$SSS####S$SSSS$$$###S##S##@@#S$#@###SSS\n"
     ]
    }
   ],
   "source": [
    "take_image_path()"
   ]
  },
  {
   "cell_type": "code",
   "execution_count": null,
   "metadata": {},
   "outputs": [],
   "source": []
  },
  {
   "cell_type": "code",
   "execution_count": null,
   "metadata": {},
   "outputs": [],
   "source": []
  }
 ],
 "metadata": {
  "kernelspec": {
   "display_name": "Python 3",
   "language": "python",
   "name": "python3"
  },
  "language_info": {
   "codemirror_mode": {
    "name": "ipython",
    "version": 3
   },
   "file_extension": ".py",
   "mimetype": "text/x-python",
   "name": "python",
   "nbconvert_exporter": "python",
   "pygments_lexer": "ipython3",
   "version": "3.8.5"
  }
 },
 "nbformat": 4,
 "nbformat_minor": 4
}
